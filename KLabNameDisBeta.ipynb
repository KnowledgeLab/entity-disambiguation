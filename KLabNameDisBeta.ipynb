{
 "cells": [
  {
   "cell_type": "code",
   "execution_count": 1,
   "metadata": {},
   "outputs": [
    {
     "name": "stderr",
     "output_type": "stream",
     "text": [
      "/anaconda3/lib/python3.7/site-packages/sklearn/ensemble/weight_boosting.py:29: DeprecationWarning: numpy.core.umath_tests is an internal NumPy module and should not be imported. It will be removed in a future NumPy release.\n",
      "  from numpy.core.umath_tests import inner1d\n"
     ]
    }
   ],
   "source": [
    "%matplotlib inline\n",
    "\n",
    "import sys\n",
    "import random\n",
    "import pickle\n",
    "import pylab as plt\n",
    "import networkx as nx\n",
    "import time\n",
    "import numpy as np\n",
    "import itertools\n",
    "from itertools import combinations\n",
    "from sklearn.linear_model import LogisticRegression\n",
    "from sklearn.ensemble import GradientBoostingClassifier\n",
    "from xgboost import XGBClassifier\n",
    "from collections import defaultdict, Counter\n",
    "path='/Users/lingfeiw/Documents/research/teamscience/team/BillNameDis/'\n",
    "\n",
    "# flush print\n",
    "def flushPrint(d):\n",
    "    sys.stdout.write('\\r')\n",
    "    sys.stdout.write('%s' % d)\n",
    "    sys.stdout.flush()\n",
    "    \n",
    "def make_meshgrid(x, y, h=.02):\n",
    "    x_min, x_max = x.min() - 1, x.max() + 1\n",
    "    y_min, y_max = y.min() - 1, y.max() + 1\n",
    "    xx, yy = np.meshgrid(np.arange(x_min, x_max, h),\n",
    "                         np.arange(y_min, y_max, h))\n",
    "    return xx, yy\n",
    "\n",
    "# similarity functions\n",
    "#def sa(i,j): return len(set(A[i]).intersection(A[j]))/float(min(len(A[i]),len(A[j])))\n",
    "def sa(i,j): return (len(set(A[i]).intersection(A[j]))-1)/(min(len(A[i]),len(A[j]))-1)# remove the author that tie these two papers together\n",
    "def sr(i,j): return len(set(R[i]).intersection(R[j]))/min(len(R[i]),len(R[j]))\n",
    "def sc(i,j): return len(set(C[i]).intersection(C[j]))/min(len(C[i]),len(C[j]))\n",
    "def sx(i,j): return int(i in R[j])+int(j in R[i])\n",
    "\n",
    "def disambiguous(papers):\n",
    "    # iterate over all possible pairs and construct data\n",
    "    X=np.array([[sa(i,j),sr(i,j),sc(i,j),sx(i,j),i,j] for i,j in itertools.combinations(sorted(papers), 2)])\n",
    "    # predict linking probability\n",
    "    y=clt.predict(X[:,:-2])\n",
    "    # connect nodes\n",
    "    G = nx.Graph()\n",
    "    G.add_nodes_from(papers)\n",
    "    G.add_edges_from(X[:,-2:][y==1].astype(int))\n",
    "    # export data of component\n",
    "    data = dict((n,c) for n,c in enumerate(sorted(nx.connected_components(G), key=len, reverse=True)))\n",
    "    return data\n",
    "\n",
    "path='/Users/lingfeiw/Documents/research/teamscience/team/BillNameDis/'\n",
    "name='AllEmailsTrainedGradientBoostingClassifier.sav'\n",
    "clt=pickle.load(open(path+name, 'rb'))\n"
   ]
  },
  {
   "cell_type": "markdown",
   "metadata": {},
   "source": [
    "Citation data:\n",
    "\n",
    "cited_ID citing_ID1, citing_ID2, ....\n",
    "\n",
    "Reference data:\n",
    "\n",
    "citing_ID cited_ID1, cited_ID2, ....\n",
    "\n",
    "Author data:\n",
    "\n",
    "paper_id, wos_standard_name1, wos_standard_name2, ...\n",
    "\n",
    "effectivePapers\n",
    "\n",
    "A & C & R"
   ]
  },
  {
   "cell_type": "code",
   "execution_count": 3,
   "metadata": {},
   "outputs": [
    {
     "name": "stdout",
     "output_type": "stream",
     "text": [
      "221.0"
     ]
    }
   ],
   "source": [
    "'''\n",
    "# effective papers\n",
    "P=set([])\n",
    "n=0\n",
    "with open('/Users/lingfeiw/Documents/research/teamscience/team/BillNameDis/effectivePapers.txt', \"r\") as f:\n",
    "    for line in f:\n",
    "        n+=1\n",
    "        if n%100000==0:\n",
    "            flushPrint(n/100000)#221\n",
    "        line=line.strip().split('\\t')   \n",
    "        P.add(int(line[0]))\n",
    "        \n",
    "# citation\n",
    "C={}\n",
    "n=0\n",
    "with open('/Users/lingfeiw/Documents/research/teamscience/team/BillNameDis/PaperCitationList.txt','r') as f:\n",
    "    for line in f:\n",
    "        n+=1\n",
    "        if n%100000==0:\n",
    "            flushPrint(n/100000)#286\n",
    "        line=list(map(int,line.strip().split('\\t')))\n",
    "        p=int(line[0])\n",
    "        if p in P:\n",
    "            C[p] = line[1:]\n",
    "            \n",
    "# reference \n",
    "R={}\n",
    "n=0\n",
    "with open('/Users/lingfeiw/Documents/research/teamscience/team/reference1900_2015.txt','r') as f:\n",
    "    for line in f:\n",
    "        n+=1\n",
    "        if n%100000==0:\n",
    "            flushPrint(n/100000)#314 \n",
    "        line=list(map(int,line.strip().split('\\t')))\n",
    "        p=line[0]\n",
    "        if p in P:\n",
    "            R[p] = line[1:]\n",
    "\n",
    "#author name\n",
    "A={}\n",
    "n=0\n",
    "with open('/Users/lingfeiw/Documents/research/teamscience/team/authorlist1900_2015.txt','r') as f:\n",
    "    for line in f:\n",
    "        n+=1\n",
    "        if n%100000==0:\n",
    "            flushPrint(n/100000)#427 \n",
    "        line=line.strip().split('\\t')\n",
    "        p=int(line[0])\n",
    "        if p in P:\n",
    "            A[p] = [i.lower() for i in line[1:]]\n",
    "            \n",
    "pickle.dump(C, open(path+'citation.pkl', 'wb'), -1)\n",
    "pickle.dump(R, open(path+'reference.pkl', 'wb'), -1)\n",
    "pickle.dump(A, open(path+'author.pkl', 'wb'), -1)\n",
    "pickle.dump(P, open(path+'effectivePapers.pkl', 'wb'), -1)\n",
    "'''\n"
   ]
  },
  {
   "cell_type": "code",
   "execution_count": 2,
   "metadata": {},
   "outputs": [],
   "source": [
    "# ~35 minutes\n",
    "with open(path+'author.pkl', 'rb') as f:\n",
    "    A = pickle.load(f) \n",
    "with open(path+'citation.pkl', 'rb') as f:\n",
    "    C = pickle.load(f) \n",
    "with open(path+'reference.pkl', 'rb') as f:\n",
    "    R = pickle.load(f) \n",
    "with open(path+'effectivePapers.pkl', 'rb') as f:\n",
    "    P = pickle.load(f)\n",
    "    \n",
    "#len(R),len(A),len(C) #22150464"
   ]
  },
  {
   "cell_type": "code",
   "execution_count": 4,
   "metadata": {},
   "outputs": [
    {
     "data": {
      "text/plain": [
       "(22150464, 22150464, 22150464)"
      ]
     },
     "execution_count": 4,
     "metadata": {},
     "output_type": "execute_result"
    }
   ],
   "source": [
    "len(R),len(A),len(C)"
   ]
  },
  {
   "cell_type": "markdown",
   "metadata": {},
   "source": [
    "# Email data training"
   ]
  },
  {
   "cell_type": "code",
   "execution_count": 4,
   "metadata": {},
   "outputs": [
    {
     "name": "stdout",
     "output_type": "stream",
     "text": [
      "153.0"
     ]
    }
   ],
   "source": [
    "E=defaultdict(lambda:{})\n",
    "n=0\n",
    "with open('/Users/lingfeiw/Documents/research/teamscience/team/rawAuthorEmailPaperWOS.txt', \"r\") as f:\n",
    "    for line in f:\n",
    "        n+=1\n",
    "        if n%100000==0:\n",
    "            flushPrint(n/100000)#153\n",
    "        line=line.strip().split('\\t')\n",
    "        author,email=line[0].split('+',1)\n",
    "        author=author.lower()\n",
    "        if email!='?':\n",
    "            vs=[int(i) for i in line[1:] if int(i) in P]\n",
    "            if len(vs)>=2:# with real email and two or more papers relevant to that email\n",
    "                E[author][email]=vs"
   ]
  },
  {
   "cell_type": "code",
   "execution_count": 5,
   "metadata": {},
   "outputs": [
    {
     "data": {
      "text/plain": [
       "867895"
      ]
     },
     "execution_count": 5,
     "metadata": {},
     "output_type": "execute_result"
    }
   ],
   "source": [
    "len(E)"
   ]
  },
  {
   "cell_type": "code",
   "execution_count": 6,
   "metadata": {},
   "outputs": [
    {
     "name": "stdout",
     "output_type": "stream",
     "text": [
      "867.0"
     ]
    }
   ],
   "source": [
    "Sim=[]\n",
    "Label=[]\n",
    "n=0\n",
    "for e in E:\n",
    "    n+=1\n",
    "    if n%1000==0:\n",
    "        flushPrint(n/1000) #868\n",
    "    # merge all papers\n",
    "    papers=sorted([j for i in E[e] for j in E[e][i]])\n",
    "    # construct dictionary to compare the author-emails of a pair of papers \n",
    "    es=dict((j,i) for i in E[e] for j in E[e][i])\n",
    "    if 2<=len(E[e])<=10 and len(papers)<=200:\n",
    "        for i,j in itertools.combinations(sorted(papers), 2):\n",
    "            Sim.append([sa(i,j),sr(i,j),sc(i,j),sx(i,j)])\n",
    "            Label.append(int(es[i]==es[j]))"
   ]
  },
  {
   "cell_type": "code",
   "execution_count": 7,
   "metadata": {},
   "outputs": [
    {
     "data": {
      "text/plain": [
       "(Counter({1: 30278129, 0: 31081417}), 61359546)"
      ]
     },
     "execution_count": 7,
     "metadata": {},
     "output_type": "execute_result"
    }
   ],
   "source": [
    "Counter(Label),len(Label)"
   ]
  },
  {
   "cell_type": "code",
   "execution_count": 8,
   "metadata": {},
   "outputs": [
    {
     "name": "stdout",
     "output_type": "stream",
     "text": [
      "239.30703496932983\n"
     ]
    }
   ],
   "source": [
    "st=time.time()\n",
    "forest = GradientBoostingClassifier(n_estimators=3, learning_rate=1.0).fit(Sim, Label)\n",
    "print(time.time()-st)"
   ]
  },
  {
   "cell_type": "code",
   "execution_count": 9,
   "metadata": {},
   "outputs": [
    {
     "data": {
      "text/plain": [
       "0.6703493373304946"
      ]
     },
     "execution_count": 9,
     "metadata": {},
     "output_type": "execute_result"
    }
   ],
   "source": [
    "forest.score(Sim, Label)"
   ]
  },
  {
   "cell_type": "code",
   "execution_count": 10,
   "metadata": {},
   "outputs": [],
   "source": [
    "#path='/Users/lingfeiw/Documents/research/teamscience/team/BillNameDis/'\n",
    "#name='AllEmailsTrainedGradientBoostingClassifier.sav'\n",
    "#pickle.dump(forest, open(path+name, 'wb'))"
   ]
  },
  {
   "cell_type": "code",
   "execution_count": null,
   "metadata": {},
   "outputs": [],
   "source": []
  },
  {
   "cell_type": "markdown",
   "metadata": {},
   "source": [
    "# 'EVANS, JA' testing"
   ]
  },
  {
   "cell_type": "code",
   "execution_count": 6,
   "metadata": {},
   "outputs": [
    {
     "name": "stdout",
     "output_type": "stream",
     "text": [
      "153.0"
     ]
    }
   ],
   "source": [
    "E={}\n",
    "n=0\n",
    "with open('/Users/lingfeiw/Documents/research/teamscience/team/rawAuthorEmailPaperWOS.txt', \"r\") as f:\n",
    "    for line in f:\n",
    "        n+=1\n",
    "        if n%100000==0:\n",
    "            flushPrint(n/100000)#153\n",
    "        line=line.strip().split('\\t')\n",
    "        author,email=line[0].split('+',1)\n",
    "        if author.lower()=='evans, ja' and email!='?':\n",
    "            vs=[int(i) for i in line[1:] if int(i) in P]\n",
    "            if len(vs)>=2:# with real email and two or more papers relevant to that email\n",
    "                E[line[0]]=vs"
   ]
  },
  {
   "cell_type": "code",
   "execution_count": 182,
   "metadata": {},
   "outputs": [],
   "source": [
    "papers=set([j for k in E for j in E[k]])\n",
    "data=disambiguous(papers)"
   ]
  },
  {
   "cell_type": "code",
   "execution_count": 183,
   "metadata": {},
   "outputs": [
    {
     "data": {
      "text/plain": [
       "42"
      ]
     },
     "execution_count": 183,
     "metadata": {},
     "output_type": "execute_result"
    }
   ],
   "source": [
    "len(papers)"
   ]
  },
  {
   "cell_type": "code",
   "execution_count": 184,
   "metadata": {},
   "outputs": [],
   "source": [
    "# visualization \n",
    "X=np.array([[sa(i,j),sr(i,j),sc(i,j),sx(i,j),i,j] for i,j in itertools.combinations(sorted(papers), 2)])\n",
    "y=clt.predict(X[:,:-2])\n",
    "G = nx.Graph()\n",
    "G.add_nodes_from(papers)\n",
    "G.add_edges_from(X[:,-2:][y==1].astype(int))\n",
    "E_={j:list(E.keys()).index(k) for k in E for j in E[k]}\n",
    "data_={j:k for k in data for j in data[k]}"
   ]
  },
  {
   "cell_type": "code",
   "execution_count": 185,
   "metadata": {},
   "outputs": [
    {
     "data": {
      "text/plain": [
       "(42, 109, 11, 10)"
      ]
     },
     "execution_count": 185,
     "metadata": {},
     "output_type": "execute_result"
    }
   ],
   "source": [
    "len(G.nodes()),len(G.edges()),len(data),len(E)#(38, 109, 7,10)"
   ]
  },
  {
   "cell_type": "code",
   "execution_count": 204,
   "metadata": {},
   "outputs": [],
   "source": [
    "pos = nx.spring_layout(G,k=0.2,iterations=30)\n",
    "x,y,emailGroup,simGroup=np.array([list(pos[i])+[E_[i],data_[i]] for i in pos]).T"
   ]
  },
  {
   "cell_type": "code",
   "execution_count": 242,
   "metadata": {},
   "outputs": [
    {
     "data": {
      "image/png": "[encoded data removed]",
      "text/plain": [
       "<Figure size 576x432 with 2 Axes>"
      ]
     },
     "metadata": {},
     "output_type": "display_data"
    }
   ],
   "source": [
    "fig=plt.figure(figsize=(8, 6),facecolor='white')\n",
    "ax = fig.add_subplot(111)\n",
    "nx.draw_networkx_edges(G,pos,alpha=0.3,width=0.5,arrows=False,zorder=1)\n",
    "plt.scatter(x,y,s=50,c=emailGroup,cmap='tab10',edgecolor='gray',alpha=1,zorder=2)\n",
    "plt.colorbar()\n",
    "plt.xlim(-1,1)\n",
    "plt.ylim(-1,1)\n",
    "ax.grid(linestyle='-', linewidth='0.5', color='orange',zorder=0)\n",
    "plt.title('EVANS, JA',size=14)\n",
    "#plt.savefig('/Users/lingfeiw/Documents/research/teamscience/team/BillNameDis/evansJAnewMarked.pdf')"
   ]
  },
  {
   "cell_type": "code",
   "execution_count": 243,
   "metadata": {},
   "outputs": [
    {
     "data": {
      "text/plain": [
       "dict_keys(['EVANS, JA+jaevans@ucsd.edu', 'EVANS, JA+je@bgs.ac.uk', 'EVANS, JA+j.a.evans@bristol.ac.uk', 'EVANS, JA+evans@ices.utexas.edu', 'EVANS, JA+je@nigl.nerc.ac.uk', 'EVANS, JA+evans@kccr.de', 'EVANS, JA+jevans@ms.umanitoba.ca', 'EVANS, JA+jevans@uchicago.edu', 'EVANS, JA+jaredaevans@gmail.com', 'EVANS, JA+jevans@msm.edu'])"
      ]
     },
     "execution_count": 243,
     "metadata": {},
     "output_type": "execute_result"
    }
   ],
   "source": [
    "E.keys()"
   ]
  },
  {
   "cell_type": "code",
   "execution_count": 121,
   "metadata": {},
   "outputs": [
    {
     "data": {
      "text/plain": [
       "('EVANS, JA+je@bgs.ac.uk', 'EVANS, JA+je@nigl.nerc.ac.uk')"
      ]
     },
     "execution_count": 121,
     "metadata": {},
     "output_type": "execute_result"
    }
   ],
   "source": [
    "#list(sorted(zip(simGroup,emailGroup)))\n",
    "#1,4 and 0,9\n",
    "list(E.keys())[1],list(E.keys())[4] #https://www.bgs.ac.uk/staff/profiles/0394.html  school of Archaeology"
   ]
  },
  {
   "cell_type": "code",
   "execution_count": 89,
   "metadata": {},
   "outputs": [
    {
     "data": {
      "text/plain": [
       "('EVANS, JA+jaevans@ucsd.edu', 'EVANS, JA+jevans@msm.edu')"
      ]
     },
     "execution_count": 89,
     "metadata": {},
     "output_type": "execute_result"
    }
   ],
   "source": [
    "list(E.keys())[0],list(E.keys())[9] # department of psychology"
   ]
  },
  {
   "cell_type": "markdown",
   "metadata": {},
   "source": [
    "# Ground truth testing"
   ]
  },
  {
   "cell_type": "code",
   "execution_count": 35,
   "metadata": {},
   "outputs": [
    {
     "name": "stdout",
     "output_type": "stream",
     "text": [
      "\r",
      "1.0"
     ]
    }
   ],
   "source": [
    "'''\n",
    "O={}\n",
    "n=0\n",
    "with open('/Users/lingfeiw/Documents/research/teamscience/team/orcid/ORCIDmatchedScholars_byTitleDoi.txt','r') as f:\n",
    "    for line in f:\n",
    "        n+=1\n",
    "        if n%100000==0:\n",
    "            flushPrint(n/100000)\n",
    "        line=line.strip().split('\\t')\n",
    "        O[int(line[0])]=list(map(int,line[1:]))\n",
    "        \n",
    "len(O)#155419\n",
    "\n",
    "AU={}\n",
    "n=0\n",
    "with open('/Users/lingfeiw/Documents/research/teamscience/team/authorlist1900_2015.txt','r') as f:\n",
    "    for line in f:\n",
    "        n+=1\n",
    "        if n%100000==0:\n",
    "            flushPrint(n/100000)#427\n",
    "        line=line.strip().split('\\t')\n",
    "        p=int(line[0])\n",
    "        AU[p]=line[1:]\n",
    "        \n",
    "def matchAuthor(name):\n",
    "    K=defaultdict(lambda:0)\n",
    "    m=0\n",
    "    for p in O[name]:\n",
    "        if p in AU:\n",
    "            m+=1\n",
    "            for n in AU[p]:\n",
    "                K[n]+=1\n",
    "    vs=[k for k,v in K.items() if v==m]\n",
    "    if len(vs)==1:\n",
    "        return vs[0]\n",
    "    \n",
    "M=[]\n",
    "n=0\n",
    "for name in O:\n",
    "    n+=1\n",
    "    if n%1000==0:\n",
    "        flushPrint(n/1000)#150\n",
    "    au=matchAuthor(name)\n",
    "    if au:\n",
    "        M.append([au.lower()]+O[name])\n",
    "\n",
    "with open(path+'ORCIDwithAuthorName.txt', 'w') as f:\n",
    "    for v in M:\n",
    "        f.write('\\t'.join(map(str,v))+'\\n')\n",
    "'''"
   ]
  },
  {
   "cell_type": "code",
   "execution_count": 2,
   "metadata": {},
   "outputs": [],
   "source": [
    "N=[]\n",
    "with open(path+'ORCIDwithAuthorName.txt', 'r') as f:\n",
    "    for line in f:\n",
    "        line=line.strip().split('\\t')\n",
    "        N.append([line[0]]+list(map(int,line[1:])))"
   ]
  },
  {
   "cell_type": "code",
   "execution_count": 3,
   "metadata": {},
   "outputs": [],
   "source": [
    "names=set([i[0] for i in N])"
   ]
  },
  {
   "cell_type": "code",
   "execution_count": 4,
   "metadata": {},
   "outputs": [
    {
     "data": {
      "text/plain": [
       "(46642, 50189)"
      ]
     },
     "execution_count": 4,
     "metadata": {},
     "output_type": "execute_result"
    }
   ],
   "source": [
    "len(names),len(N)"
   ]
  },
  {
   "cell_type": "code",
   "execution_count": null,
   "metadata": {},
   "outputs": [],
   "source": [
    "#nordquist, n"
   ]
  },
  {
   "cell_type": "code",
   "execution_count": 7,
   "metadata": {},
   "outputs": [
    {
     "name": "stdout",
     "output_type": "stream",
     "text": [
      "82.064\n"
     ]
    }
   ],
   "source": [
    "n=0\n",
    "with open('/Users/lingfeiw/Documents/research/teamscience/team/BillNameDis/PaperListEffective.txt', \"r\") as f:\n",
    "    for line in f:\n",
    "        n+=1\n",
    "        if n%100000==0:\n",
    "            flushPrint(n/100000)#84\n",
    "        line=line.strip().split('\\t')\n",
    "        author=line[0].lower()   # first break down               # second break down\n",
    "        if author =='yeh, tf':# #'nordquist, n' #n==7801155 #     #'yeh, tf' #n==8207337 #\n",
    "            print(len(line)-1)\n",
    "            break"
   ]
  },
  {
   "cell_type": "code",
   "execution_count": 9,
   "metadata": {},
   "outputs": [
    {
     "data": {
      "text/plain": [
       "8207337"
      ]
     },
     "execution_count": 9,
     "metadata": {},
     "output_type": "execute_result"
    }
   ],
   "source": [
    "n"
   ]
  },
  {
   "cell_type": "code",
   "execution_count": null,
   "metadata": {},
   "outputs": [
    {
     "name": "stdout",
     "output_type": "stream",
     "text": [
      "826.0"
     ]
    }
   ],
   "source": [
    "# export predictions \n",
    "with open(path+'ORCIDprediction3.txt', 'w') as f1:\n",
    "    n=0\n",
    "    with open('/Users/lingfeiw/Documents/research/teamscience/team/BillNameDis/PaperListEffective.txt', \"r\") as f:\n",
    "        for line in f:\n",
    "            n+=1\n",
    "            #if n>7801155:\n",
    "            if n>8207337:\n",
    "                if n%10000==0:\n",
    "                    flushPrint(n/10000)#840\n",
    "                line=line.strip().split('\\t')\n",
    "                author=line[0].lower()\n",
    "                if author in names:\n",
    "                    papers=list(map(int,line[1:]))\n",
    "                    if len(papers)<=100:\n",
    "                            dic=disambiguous(papers) \n",
    "                            s='\\t'.join(['__'.join((str(k),'_'.join(map(str,sorted(v))))) for k,v in dic.items()])\n",
    "                            f1.write(author+'\\t'+s+'\\n')"
   ]
  },
  {
   "cell_type": "code",
   "execution_count": 8,
   "metadata": {},
   "outputs": [
    {
     "name": "stdout",
     "output_type": "stream",
     "text": [
      "84.0"
     ]
    }
   ],
   "source": [
    "n=0\n",
    "PP=[]\n",
    "with open('/Users/lingfeiw/Documents/research/teamscience/team/BillNameDis/PaperListEffective.txt', \"r\") as f:\n",
    "    for line in f:\n",
    "        n+=1\n",
    "        if n%100000==0:\n",
    "            flushPrint(n/100000)#84\n",
    "        if n>7801155:\n",
    "            line=line.strip().split('\\t')\n",
    "            author=line[0].lower()\n",
    "            if author in names:\n",
    "                papers=list(map(int,line[1:]))\n",
    "                PP.append([author,len(papers)])"
   ]
  },
  {
   "cell_type": "code",
   "execution_count": null,
   "metadata": {},
   "outputs": [
    {
     "name": "stdout",
     "output_type": "stream",
     "text": [
      "79.0"
     ]
    }
   ],
   "source": [
    "# export predictions \n",
    "with open(path+'ORCIDprediction.txt', 'w') as f1:\n",
    "    n=0\n",
    "    with open('/Users/lingfeiw/Documents/research/teamscience/team/BillNameDis/PaperListEffective.txt', \"r\") as f:\n",
    "        for line in f:\n",
    "            n+=1\n",
    "            if n%100000==0:\n",
    "                flushPrint(n/100000)#84\n",
    "            line=line.strip().split('\\t')\n",
    "            author=line[0].lower()\n",
    "            if author in names:\n",
    "                papers=list(map(int,line[1:]))\n",
    "                if len(papers)==1:\n",
    "                    dic={0:set(papers)}\n",
    "                else:\n",
    "                    dic=disambiguous(papers) \n",
    "                s='\\t'.join(['__'.join((str(k),'_'.join(map(str,sorted(v))))) for k,v in dic.items()])\n",
    "                f1.write(author+'\\t'+s+'\\n')"
   ]
  },
  {
   "cell_type": "code",
   "execution_count": 5,
   "metadata": {},
   "outputs": [],
   "source": [
    "# import predictions\n",
    "U={}\n",
    "with open(path+'ORCIDprediction.txt', 'r') as f:\n",
    "    for line in f:\n",
    "        line=line.strip().split('\\t')\n",
    "        author=line[0]\n",
    "        papers=[i.split('__') for i in line[1:]] \n",
    "        dic={int(k):list(map(int,v.split('_'))) \\\n",
    "             for k,v in papers}\n",
    "        U[author]=dic\n",
    "with open(path+'ORCIDprediction2.txt', 'r') as f:\n",
    "    for line in f:\n",
    "        line=line.strip().split('\\t')\n",
    "        author=line[0]\n",
    "        papers=[i.split('__') for i in line[1:]] \n",
    "        dic={int(k):list(map(int,v.split('_'))) \\\n",
    "             for k,v in papers}\n",
    "        U[author]=dic\n"
   ]
  },
  {
   "cell_type": "code",
   "execution_count": 6,
   "metadata": {},
   "outputs": [
    {
     "data": {
      "text/plain": [
       "40346"
      ]
     },
     "execution_count": 6,
     "metadata": {},
     "output_type": "execute_result"
    }
   ],
   "source": [
    "len(U)"
   ]
  },
  {
   "cell_type": "code",
   "execution_count": 7,
   "metadata": {},
   "outputs": [
    {
     "data": {
      "text/plain": [
       "50189"
      ]
     },
     "execution_count": 7,
     "metadata": {},
     "output_type": "execute_result"
    }
   ],
   "source": [
    "len(N)"
   ]
  },
  {
   "cell_type": "code",
   "execution_count": 19,
   "metadata": {},
   "outputs": [],
   "source": [
    "\n",
    "i=N[0]\n",
    "name=i[0]\n",
    "\n",
    "data=[]\n",
    "num=0\n",
    "l2=len(set(U[name][num]).intersection(papers))\n",
    "l2"
   ]
  },
  {
   "cell_type": "code",
   "execution_count": 31,
   "metadata": {},
   "outputs": [],
   "source": []
  },
  {
   "cell_type": "code",
   "execution_count": null,
   "metadata": {},
   "outputs": [],
   "source": []
  },
  {
   "cell_type": "code",
   "execution_count": 43,
   "metadata": {},
   "outputs": [
    {
     "name": "stdout",
     "output_type": "stream",
     "text": [
      "50.0"
     ]
    }
   ],
   "source": [
    "dd=[]\n",
    "n=0\n",
    "for i in N:\n",
    "    n+=1\n",
    "    if n%1000==0:\n",
    "        flushPrint(n/1000)#45\n",
    "    name=i[0]\n",
    "    if name in U:\n",
    "        papers=set(i[1:])\n",
    "        if len(papers)>=3:\n",
    "            l0=len(papers)\n",
    "            data=[]\n",
    "            for num in U[name]:\n",
    "                l2=len(set(U[name][num]).intersection(papers))\n",
    "                l1=len(U[name][num])\n",
    "                precision=l2/float(l1)\n",
    "                recall=l2/float(l0)\n",
    "                data.append([recall,precision,l1])\n",
    "            dd.append(sorted(data)[-1])"
   ]
  },
  {
   "cell_type": "code",
   "execution_count": 45,
   "metadata": {},
   "outputs": [
    {
     "data": {
      "text/plain": [
       "37620"
      ]
     },
     "execution_count": 45,
     "metadata": {},
     "output_type": "execute_result"
    }
   ],
   "source": [
    "len(dd)"
   ]
  },
  {
   "cell_type": "code",
   "execution_count": 44,
   "metadata": {},
   "outputs": [
    {
     "data": {
      "text/plain": [
       "[[0.1, 1.0, 1],\n",
       " [0.6666666666666666, 0.6956521739130435, 23],\n",
       " [0.6666666666666666, 1.0, 6]]"
      ]
     },
     "execution_count": 44,
     "metadata": {},
     "output_type": "execute_result"
    }
   ],
   "source": [
    "dd[:3]"
   ]
  },
  {
   "cell_type": "code",
   "execution_count": 41,
   "metadata": {},
   "outputs": [
    {
     "data": {
      "text/plain": [
       "array([ 0.48170425,  0.69676335, 10.9800363 ])"
      ]
     },
     "execution_count": 41,
     "metadata": {},
     "output_type": "execute_result"
    }
   ],
   "source": [
    "np.mean(dd,axis=0)"
   ]
  },
  {
   "cell_type": "code",
   "execution_count": 46,
   "metadata": {},
   "outputs": [
    {
     "data": {
      "text/plain": [
       "array([ 0.50537871,  0.72492725, 11.29819245])"
      ]
     },
     "execution_count": 46,
     "metadata": {},
     "output_type": "execute_result"
    }
   ],
   "source": [
    "np.mean(dd,axis=0)"
   ]
  },
  {
   "cell_type": "code",
   "execution_count": 42,
   "metadata": {},
   "outputs": [
    {
     "data": {
      "text/plain": [
       "array([0.5, 1. , 7. ])"
      ]
     },
     "execution_count": 42,
     "metadata": {},
     "output_type": "execute_result"
    }
   ],
   "source": [
    "np.median(dd,axis=0)"
   ]
  },
  {
   "cell_type": "code",
   "execution_count": 47,
   "metadata": {},
   "outputs": [
    {
     "data": {
      "text/plain": [
       "array([0.58333333, 1.        , 7.        ])"
      ]
     },
     "execution_count": 47,
     "metadata": {},
     "output_type": "execute_result"
    }
   ],
   "source": [
    "np.median(dd,axis=0)"
   ]
  },
  {
   "cell_type": "code",
   "execution_count": null,
   "metadata": {},
   "outputs": [],
   "source": []
  }
 ],
 "metadata": {
  "kernelspec": {
   "display_name": "Python 3",
   "language": "python",
   "name": "python3"
  },
  "language_info": {
   "codemirror_mode": {
    "name": "ipython",
    "version": 3
   },
   "file_extension": ".py",
   "mimetype": "text/x-python",
   "name": "python",
   "nbconvert_exporter": "python",
   "pygments_lexer": "ipython3",
   "version": "3.6.8"
  },
  "toc": {
   "nav_menu": {},
   "number_sections": true,
   "sideBar": true,
   "skip_h1_title": false,
   "title_cell": "Table of Contents",
   "title_sidebar": "Contents",
   "toc_cell": false,
   "toc_position": {},
   "toc_section_display": true,
   "toc_window_display": false
  }
 },
 "nbformat": 4,
 "nbformat_minor": 2
}
