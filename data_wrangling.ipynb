{
 "cells": [
  {
   "cell_type": "code",
   "execution_count": 1,
   "metadata": {},
   "outputs": [],
   "source": [
    "from collections import Counter"
   ]
  },
  {
   "cell_type": "code",
   "execution_count": null,
   "metadata": {},
   "outputs": [],
   "source": [
    "with open('author_candidates.tsv') as f:\n",
    "    for l in f:\n",
    "        line=l.strip().split('\\t')\n",
    "        candidates[line[0]] = len(line)-1"
   ]
  },
  {
   "cell_type": "code",
   "execution_count": null,
   "metadata": {},
   "outputs": [],
   "source": [
    "candidates.most_common()"
   ]
  },
  {
   "cell_type": "markdown",
   "metadata": {},
   "source": [
    "[('[Anonymous]', 1040460), ('6367', 962529), ('IEEE', 469600), ('Wang, Y', 71478), ('Zhang, Y', 66039), ('Wang, J', 61363), ('Li, Y', 57676), ('Liu, Y', 54116), ('Li, J', 52444), ('Zhang, J', 51474)]"
   ]
  },
  {
   "cell_type": "code",
   "execution_count": null,
   "metadata": {},
   "outputs": [],
   "source": [
    "with open(\"author_candidates_clean.tsv\",\"w\") as outfile:\n",
    "    with open('author_candidates.tsv') as f:\n",
    "        for l in f:\n",
    "            line=l.strip().split('\\t')\n",
    "            if (line[0]=='[Anonymous]'):\n",
    "                continue\n",
    "            if (line[0]=='6367'):\n",
    "                continue\n",
    "            if (line[0]=='IEEE'):\n",
    "                continue    \n",
    "            _=outfile.write(l)"
   ]
  }
 ],
 "metadata": {
  "kernelspec": {
   "display_name": "Python 3",
   "language": "python",
   "name": "python3"
  },
  "language_info": {
   "codemirror_mode": {
    "name": "ipython",
    "version": 3
   },
   "file_extension": ".py",
   "mimetype": "text/x-python",
   "name": "python",
   "nbconvert_exporter": "python",
   "pygments_lexer": "ipython3",
   "version": "3.6.8"
  },
  "toc": {
   "nav_menu": {},
   "number_sections": true,
   "sideBar": true,
   "skip_h1_title": false,
   "title_cell": "Table of Contents",
   "title_sidebar": "Contents",
   "toc_cell": false,
   "toc_position": {},
   "toc_section_display": true,
   "toc_window_display": false
  }
 },
 "nbformat": 4,
 "nbformat_minor": 2
}
